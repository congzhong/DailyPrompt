{
  "cells": [
    {
      "cell_type": "markdown",
      "metadata": {
        "colab_type": "text",
        "id": "view-in-github"
      },
      "source": [
        "<a href=\"https://colab.research.google.com/github/sugarforever/Langchain-Conversational-Chatbot/blob/main/Langchain_Conversational_Chatbot.ipynb\" target=\"_parent\"><img src=\"https://colab.research.google.com/assets/colab-badge.svg\" alt=\"Open In Colab\"/></a>"
      ]
    },
    {
      "cell_type": "code",
      "execution_count": 2,
      "metadata": {
        "id": "RdSvP1Oi7LCc"
      },
      "outputs": [
        {
          "name": "stdout",
          "output_type": "stream",
          "text": [
            "Collecting langchain==0.0.162\n",
            "  Downloading langchain-0.0.162-py3-none-any.whl (770 kB)\n",
            "\u001b[2K     \u001b[90m━━━━━━━━━━━━━━━━━━━━━━━━━━━━━━━━━━━━━━━\u001b[0m \u001b[32m770.9/770.9 kB\u001b[0m \u001b[31m2.7 MB/s\u001b[0m eta \u001b[36m0:00:00\u001b[0ma \u001b[36m0:00:01\u001b[0m\n",
            "\u001b[?25hRequirement already satisfied: PyYAML>=5.4.1 in /Users/leason/.pyenv/versions/3.10.4/lib/python3.10/site-packages (from langchain==0.0.162) (6.0)\n",
            "Requirement already satisfied: SQLAlchemy<3,>=1.4 in /Users/leason/.pyenv/versions/3.10.4/lib/python3.10/site-packages (from langchain==0.0.162) (1.4.47)\n",
            "Requirement already satisfied: aiohttp<4.0.0,>=3.8.3 in /Users/leason/.pyenv/versions/3.10.4/lib/python3.10/site-packages (from langchain==0.0.162) (3.8.4)\n",
            "Requirement already satisfied: async-timeout<5.0.0,>=4.0.0 in /Users/leason/.pyenv/versions/3.10.4/lib/python3.10/site-packages (from langchain==0.0.162) (4.0.2)\n",
            "Requirement already satisfied: dataclasses-json<0.6.0,>=0.5.7 in /Users/leason/.pyenv/versions/3.10.4/lib/python3.10/site-packages (from langchain==0.0.162) (0.5.7)\n",
            "Requirement already satisfied: numexpr<3.0.0,>=2.8.4 in /Users/leason/.pyenv/versions/3.10.4/lib/python3.10/site-packages (from langchain==0.0.162) (2.8.4)\n",
            "Requirement already satisfied: numpy<2,>=1 in /Users/leason/.pyenv/versions/3.10.4/lib/python3.10/site-packages (from langchain==0.0.162) (1.23.5)\n",
            "Requirement already satisfied: openapi-schema-pydantic<2.0,>=1.2 in /Users/leason/.pyenv/versions/3.10.4/lib/python3.10/site-packages (from langchain==0.0.162) (1.2.4)\n",
            "Requirement already satisfied: pydantic<2,>=1 in /Users/leason/.pyenv/versions/3.10.4/lib/python3.10/site-packages (from langchain==0.0.162) (1.10.7)\n",
            "Requirement already satisfied: requests<3,>=2 in /Users/leason/.pyenv/versions/3.10.4/lib/python3.10/site-packages (from langchain==0.0.162) (2.28.2)\n",
            "Requirement already satisfied: tenacity<9.0.0,>=8.1.0 in /Users/leason/.pyenv/versions/3.10.4/lib/python3.10/site-packages (from langchain==0.0.162) (8.2.2)\n",
            "Requirement already satisfied: tqdm>=4.48.0 in /Users/leason/.pyenv/versions/3.10.4/lib/python3.10/site-packages (from langchain==0.0.162) (4.65.0)\n",
            "Requirement already satisfied: attrs>=17.3.0 in /Users/leason/.pyenv/versions/3.10.4/lib/python3.10/site-packages (from aiohttp<4.0.0,>=3.8.3->langchain==0.0.162) (23.1.0)\n",
            "Requirement already satisfied: charset-normalizer<4.0,>=2.0 in /Users/leason/.pyenv/versions/3.10.4/lib/python3.10/site-packages (from aiohttp<4.0.0,>=3.8.3->langchain==0.0.162) (3.1.0)\n",
            "Requirement already satisfied: multidict<7.0,>=4.5 in /Users/leason/.pyenv/versions/3.10.4/lib/python3.10/site-packages (from aiohttp<4.0.0,>=3.8.3->langchain==0.0.162) (6.0.4)\n",
            "Requirement already satisfied: yarl<2.0,>=1.0 in /Users/leason/.pyenv/versions/3.10.4/lib/python3.10/site-packages (from aiohttp<4.0.0,>=3.8.3->langchain==0.0.162) (1.9.1)\n",
            "Requirement already satisfied: frozenlist>=1.1.1 in /Users/leason/.pyenv/versions/3.10.4/lib/python3.10/site-packages (from aiohttp<4.0.0,>=3.8.3->langchain==0.0.162) (1.3.3)\n",
            "Requirement already satisfied: aiosignal>=1.1.2 in /Users/leason/.pyenv/versions/3.10.4/lib/python3.10/site-packages (from aiohttp<4.0.0,>=3.8.3->langchain==0.0.162) (1.3.1)\n",
            "Requirement already satisfied: marshmallow<4.0.0,>=3.3.0 in /Users/leason/.pyenv/versions/3.10.4/lib/python3.10/site-packages (from dataclasses-json<0.6.0,>=0.5.7->langchain==0.0.162) (3.19.0)\n",
            "Requirement already satisfied: marshmallow-enum<2.0.0,>=1.5.1 in /Users/leason/.pyenv/versions/3.10.4/lib/python3.10/site-packages (from dataclasses-json<0.6.0,>=0.5.7->langchain==0.0.162) (1.5.1)\n",
            "Requirement already satisfied: typing-inspect>=0.4.0 in /Users/leason/.pyenv/versions/3.10.4/lib/python3.10/site-packages (from dataclasses-json<0.6.0,>=0.5.7->langchain==0.0.162) (0.8.0)\n",
            "Requirement already satisfied: typing-extensions>=4.2.0 in /Users/leason/.pyenv/versions/3.10.4/lib/python3.10/site-packages (from pydantic<2,>=1->langchain==0.0.162) (4.5.0)\n",
            "Requirement already satisfied: idna<4,>=2.5 in /Users/leason/.pyenv/versions/3.10.4/lib/python3.10/site-packages (from requests<3,>=2->langchain==0.0.162) (3.4)\n",
            "Requirement already satisfied: urllib3<1.27,>=1.21.1 in /Users/leason/.pyenv/versions/3.10.4/lib/python3.10/site-packages (from requests<3,>=2->langchain==0.0.162) (1.26.15)\n",
            "Requirement already satisfied: certifi>=2017.4.17 in /Users/leason/.pyenv/versions/3.10.4/lib/python3.10/site-packages (from requests<3,>=2->langchain==0.0.162) (2022.12.7)\n",
            "Requirement already satisfied: greenlet!=0.4.17 in /Users/leason/.pyenv/versions/3.10.4/lib/python3.10/site-packages (from SQLAlchemy<3,>=1.4->langchain==0.0.162) (2.0.2)\n",
            "Requirement already satisfied: packaging>=17.0 in /Users/leason/.pyenv/versions/3.10.4/lib/python3.10/site-packages (from marshmallow<4.0.0,>=3.3.0->dataclasses-json<0.6.0,>=0.5.7->langchain==0.0.162) (23.1)\n",
            "Requirement already satisfied: mypy-extensions>=0.3.0 in /Users/leason/.pyenv/versions/3.10.4/lib/python3.10/site-packages (from typing-inspect>=0.4.0->dataclasses-json<0.6.0,>=0.5.7->langchain==0.0.162) (1.0.0)\n",
            "Installing collected packages: langchain\n",
            "  Attempting uninstall: langchain\n",
            "    Found existing installation: langchain 0.0.147\n",
            "    Uninstalling langchain-0.0.147:\n",
            "      Successfully uninstalled langchain-0.0.147\n",
            "Successfully installed langchain-0.0.162\n",
            "\n",
            "\u001b[1m[\u001b[0m\u001b[34;49mnotice\u001b[0m\u001b[1;39;49m]\u001b[0m\u001b[39;49m A new release of pip is available: \u001b[0m\u001b[31;49m23.1.1\u001b[0m\u001b[39;49m -> \u001b[0m\u001b[32;49m23.1.2\u001b[0m\n",
            "\u001b[1m[\u001b[0m\u001b[34;49mnotice\u001b[0m\u001b[1;39;49m]\u001b[0m\u001b[39;49m To update, run: \u001b[0m\u001b[32;49mpip install --upgrade pip\u001b[0m\n",
            "Note: you may need to restart the kernel to use updated packages.\n"
          ]
        }
      ],
      "source": [
        "%pip install langchain==0.0.162"
      ]
    },
    {
      "cell_type": "code",
      "execution_count": 3,
      "metadata": {
        "id": "CcSMVHBz6zrj"
      },
      "outputs": [],
      "source": [
        "from langchain import PromptTemplate"
      ]
    },
    {
      "cell_type": "code",
      "execution_count": 4,
      "metadata": {
        "colab": {
          "base_uri": "https://localhost:8080/",
          "height": 373
        },
        "id": "akq_I-dn-hpd",
        "outputId": "317e220b-914e-45b8-e1a8-ee92c838ad77"
      },
      "outputs": [],
      "source": [
        "template = \"\"\"\n",
        "    把下面三联引号中的文本翻译成英语：\n",
        "    ```\n",
        "    {input}\n",
        "    ```\n",
        "    将翻译的结果用下面的格式输出：\n",
        "    ```\n",
        "    英语：[翻译的结果]\n",
        "    ```\n",
        "\"\"\"\n",
        "prompt = PromptTemplate(\n",
        "    input_variables=[\"input\"],\n",
        "    template=template,\n",
        ")"
      ]
    },
    {
      "cell_type": "code",
      "execution_count": 6,
      "metadata": {},
      "outputs": [
        {
          "name": "stdout",
          "output_type": "stream",
          "text": [
            "\n",
            "    把下面三联引号中的文本翻译成英语：\n",
            "    ```\n",
            "    今天天气很热，我想吃西瓜和冰汽水。\n",
            "    ```\n",
            "    将翻译的结果用下面的格式输出：\n",
            "    ```\n",
            "    英语：[翻译的结果]\n",
            "    ```\n",
            "\n"
          ]
        }
      ],
      "source": [
        "result = prompt.format(input=\"今天天气很热，我想吃西瓜和冰汽水。\")\n",
        "print(result)"
      ]
    }
  ],
  "metadata": {
    "colab": {
      "authorship_tag": "ABX9TyMr1K4oquJDHksnEw+MRPeP",
      "include_colab_link": true,
      "provenance": []
    },
    "kernelspec": {
      "display_name": "Python 3",
      "name": "python3"
    },
    "language_info": {
      "codemirror_mode": {
        "name": "ipython",
        "version": 3
      },
      "file_extension": ".py",
      "mimetype": "text/x-python",
      "name": "python",
      "nbconvert_exporter": "python",
      "pygments_lexer": "ipython3",
      "version": "3.10.4"
    }
  },
  "nbformat": 4,
  "nbformat_minor": 0
}
