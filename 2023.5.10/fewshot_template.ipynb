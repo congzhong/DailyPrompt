{
  "cells": [
    {
      "cell_type": "markdown",
      "metadata": {
        "colab_type": "text",
        "id": "view-in-github"
      },
      "source": [
        "<a href=\"https://colab.research.google.com/github/sugarforever/Langchain-Conversational-Chatbot/blob/main/Langchain_Conversational_Chatbot.ipynb\" target=\"_parent\"><img src=\"https://colab.research.google.com/assets/colab-badge.svg\" alt=\"Open In Colab\"/></a>"
      ]
    },
    {
      "cell_type": "code",
      "execution_count": 6,
      "metadata": {
        "id": "RdSvP1Oi7LCc"
      },
      "outputs": [
        {
          "name": "stdout",
          "output_type": "stream",
          "text": [
            "Requirement already satisfied: langchain==0.0.162 in /Users/leason/.pyenv/versions/3.10.4/lib/python3.10/site-packages (0.0.162)\n",
            "Requirement already satisfied: PyYAML>=5.4.1 in /Users/leason/.pyenv/versions/3.10.4/lib/python3.10/site-packages (from langchain==0.0.162) (6.0)\n",
            "Requirement already satisfied: SQLAlchemy<3,>=1.4 in /Users/leason/.pyenv/versions/3.10.4/lib/python3.10/site-packages (from langchain==0.0.162) (1.4.47)\n",
            "Requirement already satisfied: aiohttp<4.0.0,>=3.8.3 in /Users/leason/.pyenv/versions/3.10.4/lib/python3.10/site-packages (from langchain==0.0.162) (3.8.4)\n",
            "Requirement already satisfied: async-timeout<5.0.0,>=4.0.0 in /Users/leason/.pyenv/versions/3.10.4/lib/python3.10/site-packages (from langchain==0.0.162) (4.0.2)\n",
            "Requirement already satisfied: dataclasses-json<0.6.0,>=0.5.7 in /Users/leason/.pyenv/versions/3.10.4/lib/python3.10/site-packages (from langchain==0.0.162) (0.5.7)\n",
            "Requirement already satisfied: numexpr<3.0.0,>=2.8.4 in /Users/leason/.pyenv/versions/3.10.4/lib/python3.10/site-packages (from langchain==0.0.162) (2.8.4)\n",
            "Requirement already satisfied: numpy<2,>=1 in /Users/leason/.pyenv/versions/3.10.4/lib/python3.10/site-packages (from langchain==0.0.162) (1.23.5)\n",
            "Requirement already satisfied: openapi-schema-pydantic<2.0,>=1.2 in /Users/leason/.pyenv/versions/3.10.4/lib/python3.10/site-packages (from langchain==0.0.162) (1.2.4)\n",
            "Requirement already satisfied: pydantic<2,>=1 in /Users/leason/.pyenv/versions/3.10.4/lib/python3.10/site-packages (from langchain==0.0.162) (1.10.7)\n",
            "Requirement already satisfied: requests<3,>=2 in /Users/leason/.pyenv/versions/3.10.4/lib/python3.10/site-packages (from langchain==0.0.162) (2.28.2)\n",
            "Requirement already satisfied: tenacity<9.0.0,>=8.1.0 in /Users/leason/.pyenv/versions/3.10.4/lib/python3.10/site-packages (from langchain==0.0.162) (8.2.2)\n",
            "Requirement already satisfied: tqdm>=4.48.0 in /Users/leason/.pyenv/versions/3.10.4/lib/python3.10/site-packages (from langchain==0.0.162) (4.65.0)\n",
            "Requirement already satisfied: attrs>=17.3.0 in /Users/leason/.pyenv/versions/3.10.4/lib/python3.10/site-packages (from aiohttp<4.0.0,>=3.8.3->langchain==0.0.162) (23.1.0)\n",
            "Requirement already satisfied: charset-normalizer<4.0,>=2.0 in /Users/leason/.pyenv/versions/3.10.4/lib/python3.10/site-packages (from aiohttp<4.0.0,>=3.8.3->langchain==0.0.162) (3.1.0)\n",
            "Requirement already satisfied: multidict<7.0,>=4.5 in /Users/leason/.pyenv/versions/3.10.4/lib/python3.10/site-packages (from aiohttp<4.0.0,>=3.8.3->langchain==0.0.162) (6.0.4)\n",
            "Requirement already satisfied: yarl<2.0,>=1.0 in /Users/leason/.pyenv/versions/3.10.4/lib/python3.10/site-packages (from aiohttp<4.0.0,>=3.8.3->langchain==0.0.162) (1.9.1)\n",
            "Requirement already satisfied: frozenlist>=1.1.1 in /Users/leason/.pyenv/versions/3.10.4/lib/python3.10/site-packages (from aiohttp<4.0.0,>=3.8.3->langchain==0.0.162) (1.3.3)\n",
            "Requirement already satisfied: aiosignal>=1.1.2 in /Users/leason/.pyenv/versions/3.10.4/lib/python3.10/site-packages (from aiohttp<4.0.0,>=3.8.3->langchain==0.0.162) (1.3.1)\n",
            "Requirement already satisfied: marshmallow<4.0.0,>=3.3.0 in /Users/leason/.pyenv/versions/3.10.4/lib/python3.10/site-packages (from dataclasses-json<0.6.0,>=0.5.7->langchain==0.0.162) (3.19.0)\n",
            "Requirement already satisfied: marshmallow-enum<2.0.0,>=1.5.1 in /Users/leason/.pyenv/versions/3.10.4/lib/python3.10/site-packages (from dataclasses-json<0.6.0,>=0.5.7->langchain==0.0.162) (1.5.1)\n",
            "Requirement already satisfied: typing-inspect>=0.4.0 in /Users/leason/.pyenv/versions/3.10.4/lib/python3.10/site-packages (from dataclasses-json<0.6.0,>=0.5.7->langchain==0.0.162) (0.8.0)\n",
            "Requirement already satisfied: typing-extensions>=4.2.0 in /Users/leason/.pyenv/versions/3.10.4/lib/python3.10/site-packages (from pydantic<2,>=1->langchain==0.0.162) (4.5.0)\n",
            "Requirement already satisfied: idna<4,>=2.5 in /Users/leason/.pyenv/versions/3.10.4/lib/python3.10/site-packages (from requests<3,>=2->langchain==0.0.162) (3.4)\n",
            "Requirement already satisfied: urllib3<1.27,>=1.21.1 in /Users/leason/.pyenv/versions/3.10.4/lib/python3.10/site-packages (from requests<3,>=2->langchain==0.0.162) (1.26.15)\n",
            "Requirement already satisfied: certifi>=2017.4.17 in /Users/leason/.pyenv/versions/3.10.4/lib/python3.10/site-packages (from requests<3,>=2->langchain==0.0.162) (2022.12.7)\n",
            "Requirement already satisfied: greenlet!=0.4.17 in /Users/leason/.pyenv/versions/3.10.4/lib/python3.10/site-packages (from SQLAlchemy<3,>=1.4->langchain==0.0.162) (2.0.2)\n",
            "Requirement already satisfied: packaging>=17.0 in /Users/leason/.pyenv/versions/3.10.4/lib/python3.10/site-packages (from marshmallow<4.0.0,>=3.3.0->dataclasses-json<0.6.0,>=0.5.7->langchain==0.0.162) (23.1)\n",
            "Requirement already satisfied: mypy-extensions>=0.3.0 in /Users/leason/.pyenv/versions/3.10.4/lib/python3.10/site-packages (from typing-inspect>=0.4.0->dataclasses-json<0.6.0,>=0.5.7->langchain==0.0.162) (1.0.0)\n",
            "\n",
            "\u001b[1m[\u001b[0m\u001b[34;49mnotice\u001b[0m\u001b[1;39;49m]\u001b[0m\u001b[39;49m A new release of pip is available: \u001b[0m\u001b[31;49m23.1.1\u001b[0m\u001b[39;49m -> \u001b[0m\u001b[32;49m23.1.2\u001b[0m\n",
            "\u001b[1m[\u001b[0m\u001b[34;49mnotice\u001b[0m\u001b[1;39;49m]\u001b[0m\u001b[39;49m To update, run: \u001b[0m\u001b[32;49mpip install --upgrade pip\u001b[0m\n",
            "Note: you may need to restart the kernel to use updated packages.\n"
          ]
        }
      ],
      "source": [
        "%pip install langchain==0.0.162"
      ]
    },
    {
      "cell_type": "code",
      "execution_count": 7,
      "metadata": {
        "id": "CcSMVHBz6zrj"
      },
      "outputs": [],
      "source": [
        "from langchain import PromptTemplate, FewShotPromptTemplate"
      ]
    },
    {
      "cell_type": "code",
      "execution_count": 8,
      "metadata": {
        "colab": {
          "base_uri": "https://localhost:8080/",
          "height": 373
        },
        "id": "akq_I-dn-hpd",
        "outputId": "317e220b-914e-45b8-e1a8-ee92c838ad77"
      },
      "outputs": [],
      "source": [
        "# 插入例子模版的例子\n",
        "examples = [\n",
        "    {\"word\": \"高兴\", \"antonym\": \"伤心\"},\n",
        "    {\"word\": \"高\", \"antonym\": \"矮\"},\n",
        "]\n",
        "# 例子模版\n",
        "example_formatter_template = \"\"\"\n",
        "单词: {word}\n",
        "反义词: {antonym}\n",
        "\"\"\"\n",
        "example_prompt = PromptTemplate(\n",
        "    template=example_formatter_template,\n",
        "    input_variables=[\"word\", \"antonym\"],\n",
        ")\n",
        "# 例子前缀指令\n",
        "prefix=\"输出每个单词的反义词\"\n",
        "# 例子后缀指令\n",
        "suffix=\"\"\"\n",
        "单词: {input} \n",
        "反义词:\n",
        "\"\"\"\n",
        "# prefix, examples 和 suffix 的分隔符\n",
        "example_separator=\"\"\n",
        "# 用户输入变量\n",
        "input_variables=[\"input\"]"
      ]
    },
    {
      "cell_type": "code",
      "execution_count": 9,
      "metadata": {},
      "outputs": [
        {
          "name": "stdout",
          "output_type": "stream",
          "text": [
            "输出每个单词的反义词\n",
            "单词: 高兴\n",
            "反义词: 伤心\n",
            "\n",
            "单词: 高\n",
            "反义词: 矮\n",
            "\n",
            "单词: 巨大 \n",
            "反义词:\n",
            "\n"
          ]
        }
      ],
      "source": [
        "# 最后, 我们创建 FewShotPromptTemplate 对象\n",
        "few_shot_prompt = FewShotPromptTemplate(\n",
        "    examples=examples,\n",
        "    example_prompt=example_prompt,\n",
        "    prefix=prefix,\n",
        "    suffix=suffix,\n",
        "    example_separator=example_separator,\n",
        "    input_variables=input_variables,\n",
        ")\n",
        "print(few_shot_prompt.format(input=\"巨大\"))"
      ]
    }
  ],
  "metadata": {
    "colab": {
      "authorship_tag": "ABX9TyMr1K4oquJDHksnEw+MRPeP",
      "include_colab_link": true,
      "provenance": []
    },
    "kernelspec": {
      "display_name": "Python 3",
      "name": "python3"
    },
    "language_info": {
      "codemirror_mode": {
        "name": "ipython",
        "version": 3
      },
      "file_extension": ".py",
      "mimetype": "text/x-python",
      "name": "python",
      "nbconvert_exporter": "python",
      "pygments_lexer": "ipython3",
      "version": "3.10.4"
    }
  },
  "nbformat": 4,
  "nbformat_minor": 0
}
